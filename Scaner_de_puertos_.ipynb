{
  "nbformat": 4,
  "nbformat_minor": 0,
  "metadata": {
    "colab": {
      "provenance": [],
      "toc_visible": true,
      "include_colab_link": true
    },
    "kernelspec": {
      "name": "python3",
      "display_name": "Python 3"
    },
    "language_info": {
      "name": "python"
    }
  },
  "cells": [
    {
      "cell_type": "markdown",
      "metadata": {
        "id": "view-in-github",
        "colab_type": "text"
      },
      "source": [
        "<a href=\"https://colab.research.google.com/github/Carlos20263/Proyecto_Ciberseguridad/blob/main/Scaner_de_puertos_.ipynb\" target=\"_parent\"><img src=\"https://colab.research.google.com/assets/colab-badge.svg\" alt=\"Open In Colab\"/></a>"
      ]
    },
    {
      "cell_type": "code",
      "execution_count": null,
      "metadata": {
        "colab": {
          "base_uri": "https://localhost:8080/"
        },
        "id": "HftAdw26zAZn",
        "outputId": "145a6d15-b3ee-4a45-cbd6-ae195feebd6f"
      },
      "outputs": [
        {
          "output_type": "stream",
          "name": "stdout",
          "text": [
            "----- Escáner de Puertos IP -----\n"
          ]
        }
      ],
      "source": [
        "# @title **Escáner de Puertos IP**\n",
        "\n",
        "# Este cuaderno contiene un script Python para escanear puertos TCP en una dirección IP específica.\n",
        "# Permite al usuario definir el rango de puertos a escanear y proporciona un resumen de los puertos abiertos.\n",
        "\n",
        "import socket\n",
        "import sys\n",
        "import time\n",
        "\n",
        "def scan_port(ip_address, port):\n",
        "    \"\"\"\n",
        "    Intenta conectar a un puerto específico en una dirección IP dada.\n",
        "    Retorna True si el puerto está abierto, False en caso contrario.\n",
        "    \"\"\"\n",
        "    try:\n",
        "        # AF_INET para IPv4, SOCK_STREAM para TCP\n",
        "        sock = socket.socket(socket.AF_INET, socket.SOCK_STREAM)\n",
        "        sock.settimeout(1)  # Tiempo de espera en segundos para la conexión\n",
        "\n",
        "        # connect_ex devuelve un código de error: 0 si la conexión es exitosa (puerto abierto),\n",
        "        # un número diferente de 0 si hay un error (puerto cerrado o filtrado).\n",
        "        result = sock.connect_ex((ip_address, port))\n",
        "\n",
        "        if result == 0:\n",
        "            return True\n",
        "        else:\n",
        "            return False\n",
        "    except socket.error as e:\n",
        "        print(f\"Error de socket al intentar conectar al puerto {port}: {e}\")\n",
        "        return False\n",
        "    finally:\n",
        "        # Asegúrate de cerrar el socket para liberar recursos\n",
        "        sock.close()\n",
        "\n",
        "def main():\n",
        "    \"\"\"\n",
        "    Función principal para ejecutar el escáner de puertos.\n",
        "    \"\"\"\n",
        "    print(\"----- Escáner de Puertos IP -----\")\n",
        "\n",
        "    # Solicitar la dirección IP al usuario\n",
        "    ip_address = input(\"Ingrese la dirección IP a escanear (ej: 127.0.0.1 o 8.8.8.8): \")\n",
        "\n",
        "    # Validar la dirección IP (básico)\n",
        "    try:\n",
        "        socket.inet_aton(ip_address) # Intenta convertir a formato binario para validar\n",
        "    except socket.error:\n",
        "        print(\"Error: La dirección IP ingresada no es válida.\")\n",
        "        sys.exit(1) # Salir si la IP es inválida\n",
        "\n",
        "    # Solicitar el rango de puertos\n",
        "    while True:\n",
        "        try:\n",
        "            start_port = int(input(\"Ingrese el puerto inicial (ej: 1): \"))\n",
        "            end_port = int(input(\"Ingrese el puerto final (ej: 1024): \"))\n",
        "\n",
        "            if start_port > end_port:\n",
        "                print(\"El puerto inicial no puede ser mayor que el puerto final. Intente de nuevo.\")\n",
        "                continue\n",
        "            elif start_port < 1 or end_port > 65535:\n",
        "                print(\"Los puertos deben estar en el rango de 1 a 65535. Intente de nuevo.\")\n",
        "                continue\n",
        "            break\n",
        "        except ValueError:\n",
        "            print(\"Entrada inválida. Por favor, ingrese un número entero para los puertos.\")\n",
        "\n",
        "    print(f\"\\nEscaneando puertos de {ip_address} desde {start_port} hasta {end_port}...\")\n",
        "    start_time = time.time() # Registra el tiempo de inicio\n",
        "\n",
        "    open_ports = []\n",
        "\n",
        "    # Bucle para escanear cada puerto en el rango\n",
        "    for port in range(start_port, end_port + 1):\n",
        "        # Puedes descomentar la siguiente línea para ver el progreso del escaneo puerto por puerto\n",
        "        # print(f\"Escaneando puerto {port}...\")\n",
        "\n",
        "        if scan_port(ip_address, port):\n",
        "            print(f\"Puerto {port}: Abierto\")\n",
        "            open_ports.append(port)\n",
        "        # else:\n",
        "            # Si quieres ver también los puertos cerrados/filtrados, puedes descomentar la siguiente línea\n",
        "            # print(f\"Puerto {port}: Cerrado/Filtrado\")\n",
        "\n",
        "    end_time = time.time() # Registra el tiempo de finalización\n",
        "    total_time = end_time - start_time # Calcula el tiempo total\n",
        "\n",
        "    print(\"\\n----- Resumen del Escaneo -----\")\n",
        "    print(f\"Dirección IP escaneada: {ip_address}\")\n",
        "    print(f\"Rango de puertos escaneados: {start_port} - {end_port}\")\n",
        "    print(f\"Puertos abiertos ({len(open_ports)}): {sorted(open_ports)}\")\n",
        "    print(f\"Tiempo total de escaneo: {total_time:.2f} segundos\")\n",
        "\n",
        "# Este bloque asegura que la función main() se ejecute solo cuando el script es ejecutado directamente.\n",
        "if __name__ == \"__main__\":\n",
        "    main()"
      ]
    }
  ]
}